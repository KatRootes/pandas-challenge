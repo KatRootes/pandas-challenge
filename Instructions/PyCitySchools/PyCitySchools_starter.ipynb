{
 "cells": [
  {
   "cell_type": "markdown",
   "metadata": {},
   "source": [
    "### Note\n",
    "* Instructions have been included for each segment. You do not have to follow them exactly, but they are included to help you think through the steps."
   ]
  },
  {
   "cell_type": "code",
   "execution_count": 1,
   "metadata": {},
   "outputs": [
    {
     "data": {
      "text/html": [
       "<div>\n",
       "<style scoped>\n",
       "    .dataframe tbody tr th:only-of-type {\n",
       "        vertical-align: middle;\n",
       "    }\n",
       "\n",
       "    .dataframe tbody tr th {\n",
       "        vertical-align: top;\n",
       "    }\n",
       "\n",
       "    .dataframe thead th {\n",
       "        text-align: right;\n",
       "    }\n",
       "</style>\n",
       "<table border=\"1\" class=\"dataframe\">\n",
       "  <thead>\n",
       "    <tr style=\"text-align: right;\">\n",
       "      <th></th>\n",
       "      <th>Student ID</th>\n",
       "      <th>student_name</th>\n",
       "      <th>gender</th>\n",
       "      <th>grade</th>\n",
       "      <th>school_name</th>\n",
       "      <th>reading_score</th>\n",
       "      <th>math_score</th>\n",
       "      <th>School ID</th>\n",
       "      <th>type</th>\n",
       "      <th>size</th>\n",
       "      <th>budget</th>\n",
       "    </tr>\n",
       "  </thead>\n",
       "  <tbody>\n",
       "    <tr>\n",
       "      <td>0</td>\n",
       "      <td>0</td>\n",
       "      <td>Paul Bradley</td>\n",
       "      <td>M</td>\n",
       "      <td>9th</td>\n",
       "      <td>Huang High School</td>\n",
       "      <td>66</td>\n",
       "      <td>79</td>\n",
       "      <td>0</td>\n",
       "      <td>District</td>\n",
       "      <td>2917</td>\n",
       "      <td>1910635</td>\n",
       "    </tr>\n",
       "    <tr>\n",
       "      <td>1</td>\n",
       "      <td>1</td>\n",
       "      <td>Victor Smith</td>\n",
       "      <td>M</td>\n",
       "      <td>12th</td>\n",
       "      <td>Huang High School</td>\n",
       "      <td>94</td>\n",
       "      <td>61</td>\n",
       "      <td>0</td>\n",
       "      <td>District</td>\n",
       "      <td>2917</td>\n",
       "      <td>1910635</td>\n",
       "    </tr>\n",
       "    <tr>\n",
       "      <td>2</td>\n",
       "      <td>2</td>\n",
       "      <td>Kevin Rodriguez</td>\n",
       "      <td>M</td>\n",
       "      <td>12th</td>\n",
       "      <td>Huang High School</td>\n",
       "      <td>90</td>\n",
       "      <td>60</td>\n",
       "      <td>0</td>\n",
       "      <td>District</td>\n",
       "      <td>2917</td>\n",
       "      <td>1910635</td>\n",
       "    </tr>\n",
       "    <tr>\n",
       "      <td>3</td>\n",
       "      <td>3</td>\n",
       "      <td>Dr. Richard Scott</td>\n",
       "      <td>M</td>\n",
       "      <td>12th</td>\n",
       "      <td>Huang High School</td>\n",
       "      <td>67</td>\n",
       "      <td>58</td>\n",
       "      <td>0</td>\n",
       "      <td>District</td>\n",
       "      <td>2917</td>\n",
       "      <td>1910635</td>\n",
       "    </tr>\n",
       "    <tr>\n",
       "      <td>4</td>\n",
       "      <td>4</td>\n",
       "      <td>Bonnie Ray</td>\n",
       "      <td>F</td>\n",
       "      <td>9th</td>\n",
       "      <td>Huang High School</td>\n",
       "      <td>97</td>\n",
       "      <td>84</td>\n",
       "      <td>0</td>\n",
       "      <td>District</td>\n",
       "      <td>2917</td>\n",
       "      <td>1910635</td>\n",
       "    </tr>\n",
       "    <tr>\n",
       "      <td>...</td>\n",
       "      <td>...</td>\n",
       "      <td>...</td>\n",
       "      <td>...</td>\n",
       "      <td>...</td>\n",
       "      <td>...</td>\n",
       "      <td>...</td>\n",
       "      <td>...</td>\n",
       "      <td>...</td>\n",
       "      <td>...</td>\n",
       "      <td>...</td>\n",
       "      <td>...</td>\n",
       "    </tr>\n",
       "    <tr>\n",
       "      <td>39165</td>\n",
       "      <td>39165</td>\n",
       "      <td>Donna Howard</td>\n",
       "      <td>F</td>\n",
       "      <td>12th</td>\n",
       "      <td>Thomas High School</td>\n",
       "      <td>99</td>\n",
       "      <td>90</td>\n",
       "      <td>14</td>\n",
       "      <td>Charter</td>\n",
       "      <td>1635</td>\n",
       "      <td>1043130</td>\n",
       "    </tr>\n",
       "    <tr>\n",
       "      <td>39166</td>\n",
       "      <td>39166</td>\n",
       "      <td>Dawn Bell</td>\n",
       "      <td>F</td>\n",
       "      <td>10th</td>\n",
       "      <td>Thomas High School</td>\n",
       "      <td>95</td>\n",
       "      <td>70</td>\n",
       "      <td>14</td>\n",
       "      <td>Charter</td>\n",
       "      <td>1635</td>\n",
       "      <td>1043130</td>\n",
       "    </tr>\n",
       "    <tr>\n",
       "      <td>39167</td>\n",
       "      <td>39167</td>\n",
       "      <td>Rebecca Tanner</td>\n",
       "      <td>F</td>\n",
       "      <td>9th</td>\n",
       "      <td>Thomas High School</td>\n",
       "      <td>73</td>\n",
       "      <td>84</td>\n",
       "      <td>14</td>\n",
       "      <td>Charter</td>\n",
       "      <td>1635</td>\n",
       "      <td>1043130</td>\n",
       "    </tr>\n",
       "    <tr>\n",
       "      <td>39168</td>\n",
       "      <td>39168</td>\n",
       "      <td>Desiree Kidd</td>\n",
       "      <td>F</td>\n",
       "      <td>10th</td>\n",
       "      <td>Thomas High School</td>\n",
       "      <td>99</td>\n",
       "      <td>90</td>\n",
       "      <td>14</td>\n",
       "      <td>Charter</td>\n",
       "      <td>1635</td>\n",
       "      <td>1043130</td>\n",
       "    </tr>\n",
       "    <tr>\n",
       "      <td>39169</td>\n",
       "      <td>39169</td>\n",
       "      <td>Carolyn Jackson</td>\n",
       "      <td>F</td>\n",
       "      <td>11th</td>\n",
       "      <td>Thomas High School</td>\n",
       "      <td>95</td>\n",
       "      <td>75</td>\n",
       "      <td>14</td>\n",
       "      <td>Charter</td>\n",
       "      <td>1635</td>\n",
       "      <td>1043130</td>\n",
       "    </tr>\n",
       "  </tbody>\n",
       "</table>\n",
       "<p>39170 rows × 11 columns</p>\n",
       "</div>"
      ],
      "text/plain": [
       "       Student ID       student_name gender grade         school_name  \\\n",
       "0               0       Paul Bradley      M   9th   Huang High School   \n",
       "1               1       Victor Smith      M  12th   Huang High School   \n",
       "2               2    Kevin Rodriguez      M  12th   Huang High School   \n",
       "3               3  Dr. Richard Scott      M  12th   Huang High School   \n",
       "4               4         Bonnie Ray      F   9th   Huang High School   \n",
       "...           ...                ...    ...   ...                 ...   \n",
       "39165       39165       Donna Howard      F  12th  Thomas High School   \n",
       "39166       39166          Dawn Bell      F  10th  Thomas High School   \n",
       "39167       39167     Rebecca Tanner      F   9th  Thomas High School   \n",
       "39168       39168       Desiree Kidd      F  10th  Thomas High School   \n",
       "39169       39169    Carolyn Jackson      F  11th  Thomas High School   \n",
       "\n",
       "       reading_score  math_score  School ID      type  size   budget  \n",
       "0                 66          79          0  District  2917  1910635  \n",
       "1                 94          61          0  District  2917  1910635  \n",
       "2                 90          60          0  District  2917  1910635  \n",
       "3                 67          58          0  District  2917  1910635  \n",
       "4                 97          84          0  District  2917  1910635  \n",
       "...              ...         ...        ...       ...   ...      ...  \n",
       "39165             99          90         14   Charter  1635  1043130  \n",
       "39166             95          70         14   Charter  1635  1043130  \n",
       "39167             73          84         14   Charter  1635  1043130  \n",
       "39168             99          90         14   Charter  1635  1043130  \n",
       "39169             95          75         14   Charter  1635  1043130  \n",
       "\n",
       "[39170 rows x 11 columns]"
      ]
     },
     "execution_count": 1,
     "metadata": {},
     "output_type": "execute_result"
    }
   ],
   "source": [
    "# Dependencies and Setup\n",
    "import pandas as pd\n",
    "\n",
    "# File to Load (Remember to Change These)\n",
    "school_data_to_load = \"Resources/schools_complete.csv\"\n",
    "student_data_to_load = \"Resources/students_complete.csv\"\n",
    "\n",
    "# Read School and Student Data File and store into Pandas Data Frames\n",
    "school_data = pd.read_csv(school_data_to_load)\n",
    "student_data = pd.read_csv(student_data_to_load)\n",
    "\n",
    "# Combine the data into a single dataset\n",
    "school_data_complete = pd.merge(student_data, school_data, how=\"left\", on=[\"school_name\", \"school_name\"])\n",
    "\n",
    "# Display header for the merged file\n",
    "school_data_complete"
   ]
  },
  {
   "cell_type": "code",
   "execution_count": 2,
   "metadata": {},
   "outputs": [
    {
     "data": {
      "text/html": [
       "<div>\n",
       "<style scoped>\n",
       "    .dataframe tbody tr th:only-of-type {\n",
       "        vertical-align: middle;\n",
       "    }\n",
       "\n",
       "    .dataframe tbody tr th {\n",
       "        vertical-align: top;\n",
       "    }\n",
       "\n",
       "    .dataframe thead th {\n",
       "        text-align: right;\n",
       "    }\n",
       "</style>\n",
       "<table border=\"1\" class=\"dataframe\">\n",
       "  <thead>\n",
       "    <tr style=\"text-align: right;\">\n",
       "      <th></th>\n",
       "      <th>School ID</th>\n",
       "      <th>school_name</th>\n",
       "      <th>type</th>\n",
       "      <th>size</th>\n",
       "      <th>budget</th>\n",
       "    </tr>\n",
       "  </thead>\n",
       "  <tbody>\n",
       "    <tr>\n",
       "      <td>0</td>\n",
       "      <td>0</td>\n",
       "      <td>Huang High School</td>\n",
       "      <td>District</td>\n",
       "      <td>2917</td>\n",
       "      <td>1910635</td>\n",
       "    </tr>\n",
       "    <tr>\n",
       "      <td>1</td>\n",
       "      <td>1</td>\n",
       "      <td>Figueroa High School</td>\n",
       "      <td>District</td>\n",
       "      <td>2949</td>\n",
       "      <td>1884411</td>\n",
       "    </tr>\n",
       "    <tr>\n",
       "      <td>2</td>\n",
       "      <td>2</td>\n",
       "      <td>Shelton High School</td>\n",
       "      <td>Charter</td>\n",
       "      <td>1761</td>\n",
       "      <td>1056600</td>\n",
       "    </tr>\n",
       "    <tr>\n",
       "      <td>3</td>\n",
       "      <td>3</td>\n",
       "      <td>Hernandez High School</td>\n",
       "      <td>District</td>\n",
       "      <td>4635</td>\n",
       "      <td>3022020</td>\n",
       "    </tr>\n",
       "    <tr>\n",
       "      <td>4</td>\n",
       "      <td>4</td>\n",
       "      <td>Griffin High School</td>\n",
       "      <td>Charter</td>\n",
       "      <td>1468</td>\n",
       "      <td>917500</td>\n",
       "    </tr>\n",
       "    <tr>\n",
       "      <td>5</td>\n",
       "      <td>5</td>\n",
       "      <td>Wilson High School</td>\n",
       "      <td>Charter</td>\n",
       "      <td>2283</td>\n",
       "      <td>1319574</td>\n",
       "    </tr>\n",
       "    <tr>\n",
       "      <td>6</td>\n",
       "      <td>6</td>\n",
       "      <td>Cabrera High School</td>\n",
       "      <td>Charter</td>\n",
       "      <td>1858</td>\n",
       "      <td>1081356</td>\n",
       "    </tr>\n",
       "    <tr>\n",
       "      <td>7</td>\n",
       "      <td>7</td>\n",
       "      <td>Bailey High School</td>\n",
       "      <td>District</td>\n",
       "      <td>4976</td>\n",
       "      <td>3124928</td>\n",
       "    </tr>\n",
       "    <tr>\n",
       "      <td>8</td>\n",
       "      <td>8</td>\n",
       "      <td>Holden High School</td>\n",
       "      <td>Charter</td>\n",
       "      <td>427</td>\n",
       "      <td>248087</td>\n",
       "    </tr>\n",
       "    <tr>\n",
       "      <td>9</td>\n",
       "      <td>9</td>\n",
       "      <td>Pena High School</td>\n",
       "      <td>Charter</td>\n",
       "      <td>962</td>\n",
       "      <td>585858</td>\n",
       "    </tr>\n",
       "    <tr>\n",
       "      <td>10</td>\n",
       "      <td>10</td>\n",
       "      <td>Wright High School</td>\n",
       "      <td>Charter</td>\n",
       "      <td>1800</td>\n",
       "      <td>1049400</td>\n",
       "    </tr>\n",
       "    <tr>\n",
       "      <td>11</td>\n",
       "      <td>11</td>\n",
       "      <td>Rodriguez High School</td>\n",
       "      <td>District</td>\n",
       "      <td>3999</td>\n",
       "      <td>2547363</td>\n",
       "    </tr>\n",
       "    <tr>\n",
       "      <td>12</td>\n",
       "      <td>12</td>\n",
       "      <td>Johnson High School</td>\n",
       "      <td>District</td>\n",
       "      <td>4761</td>\n",
       "      <td>3094650</td>\n",
       "    </tr>\n",
       "    <tr>\n",
       "      <td>13</td>\n",
       "      <td>13</td>\n",
       "      <td>Ford High School</td>\n",
       "      <td>District</td>\n",
       "      <td>2739</td>\n",
       "      <td>1763916</td>\n",
       "    </tr>\n",
       "    <tr>\n",
       "      <td>14</td>\n",
       "      <td>14</td>\n",
       "      <td>Thomas High School</td>\n",
       "      <td>Charter</td>\n",
       "      <td>1635</td>\n",
       "      <td>1043130</td>\n",
       "    </tr>\n",
       "  </tbody>\n",
       "</table>\n",
       "</div>"
      ],
      "text/plain": [
       "    School ID            school_name      type  size   budget\n",
       "0           0      Huang High School  District  2917  1910635\n",
       "1           1   Figueroa High School  District  2949  1884411\n",
       "2           2    Shelton High School   Charter  1761  1056600\n",
       "3           3  Hernandez High School  District  4635  3022020\n",
       "4           4    Griffin High School   Charter  1468   917500\n",
       "5           5     Wilson High School   Charter  2283  1319574\n",
       "6           6    Cabrera High School   Charter  1858  1081356\n",
       "7           7     Bailey High School  District  4976  3124928\n",
       "8           8     Holden High School   Charter   427   248087\n",
       "9           9       Pena High School   Charter   962   585858\n",
       "10         10     Wright High School   Charter  1800  1049400\n",
       "11         11  Rodriguez High School  District  3999  2547363\n",
       "12         12    Johnson High School  District  4761  3094650\n",
       "13         13       Ford High School  District  2739  1763916\n",
       "14         14     Thomas High School   Charter  1635  1043130"
      ]
     },
     "execution_count": 2,
     "metadata": {},
     "output_type": "execute_result"
    }
   ],
   "source": [
    "# Display header for just the school data\n",
    "school_data"
   ]
  },
  {
   "cell_type": "code",
   "execution_count": 3,
   "metadata": {},
   "outputs": [
    {
     "data": {
      "text/html": [
       "<div>\n",
       "<style scoped>\n",
       "    .dataframe tbody tr th:only-of-type {\n",
       "        vertical-align: middle;\n",
       "    }\n",
       "\n",
       "    .dataframe tbody tr th {\n",
       "        vertical-align: top;\n",
       "    }\n",
       "\n",
       "    .dataframe thead th {\n",
       "        text-align: right;\n",
       "    }\n",
       "</style>\n",
       "<table border=\"1\" class=\"dataframe\">\n",
       "  <thead>\n",
       "    <tr style=\"text-align: right;\">\n",
       "      <th></th>\n",
       "      <th>Student ID</th>\n",
       "      <th>student_name</th>\n",
       "      <th>gender</th>\n",
       "      <th>grade</th>\n",
       "      <th>school_name</th>\n",
       "      <th>reading_score</th>\n",
       "      <th>math_score</th>\n",
       "    </tr>\n",
       "  </thead>\n",
       "  <tbody>\n",
       "    <tr>\n",
       "      <td>0</td>\n",
       "      <td>0</td>\n",
       "      <td>Paul Bradley</td>\n",
       "      <td>M</td>\n",
       "      <td>9th</td>\n",
       "      <td>Huang High School</td>\n",
       "      <td>66</td>\n",
       "      <td>79</td>\n",
       "    </tr>\n",
       "    <tr>\n",
       "      <td>1</td>\n",
       "      <td>1</td>\n",
       "      <td>Victor Smith</td>\n",
       "      <td>M</td>\n",
       "      <td>12th</td>\n",
       "      <td>Huang High School</td>\n",
       "      <td>94</td>\n",
       "      <td>61</td>\n",
       "    </tr>\n",
       "    <tr>\n",
       "      <td>2</td>\n",
       "      <td>2</td>\n",
       "      <td>Kevin Rodriguez</td>\n",
       "      <td>M</td>\n",
       "      <td>12th</td>\n",
       "      <td>Huang High School</td>\n",
       "      <td>90</td>\n",
       "      <td>60</td>\n",
       "    </tr>\n",
       "    <tr>\n",
       "      <td>3</td>\n",
       "      <td>3</td>\n",
       "      <td>Dr. Richard Scott</td>\n",
       "      <td>M</td>\n",
       "      <td>12th</td>\n",
       "      <td>Huang High School</td>\n",
       "      <td>67</td>\n",
       "      <td>58</td>\n",
       "    </tr>\n",
       "    <tr>\n",
       "      <td>4</td>\n",
       "      <td>4</td>\n",
       "      <td>Bonnie Ray</td>\n",
       "      <td>F</td>\n",
       "      <td>9th</td>\n",
       "      <td>Huang High School</td>\n",
       "      <td>97</td>\n",
       "      <td>84</td>\n",
       "    </tr>\n",
       "    <tr>\n",
       "      <td>...</td>\n",
       "      <td>...</td>\n",
       "      <td>...</td>\n",
       "      <td>...</td>\n",
       "      <td>...</td>\n",
       "      <td>...</td>\n",
       "      <td>...</td>\n",
       "      <td>...</td>\n",
       "    </tr>\n",
       "    <tr>\n",
       "      <td>39165</td>\n",
       "      <td>39165</td>\n",
       "      <td>Donna Howard</td>\n",
       "      <td>F</td>\n",
       "      <td>12th</td>\n",
       "      <td>Thomas High School</td>\n",
       "      <td>99</td>\n",
       "      <td>90</td>\n",
       "    </tr>\n",
       "    <tr>\n",
       "      <td>39166</td>\n",
       "      <td>39166</td>\n",
       "      <td>Dawn Bell</td>\n",
       "      <td>F</td>\n",
       "      <td>10th</td>\n",
       "      <td>Thomas High School</td>\n",
       "      <td>95</td>\n",
       "      <td>70</td>\n",
       "    </tr>\n",
       "    <tr>\n",
       "      <td>39167</td>\n",
       "      <td>39167</td>\n",
       "      <td>Rebecca Tanner</td>\n",
       "      <td>F</td>\n",
       "      <td>9th</td>\n",
       "      <td>Thomas High School</td>\n",
       "      <td>73</td>\n",
       "      <td>84</td>\n",
       "    </tr>\n",
       "    <tr>\n",
       "      <td>39168</td>\n",
       "      <td>39168</td>\n",
       "      <td>Desiree Kidd</td>\n",
       "      <td>F</td>\n",
       "      <td>10th</td>\n",
       "      <td>Thomas High School</td>\n",
       "      <td>99</td>\n",
       "      <td>90</td>\n",
       "    </tr>\n",
       "    <tr>\n",
       "      <td>39169</td>\n",
       "      <td>39169</td>\n",
       "      <td>Carolyn Jackson</td>\n",
       "      <td>F</td>\n",
       "      <td>11th</td>\n",
       "      <td>Thomas High School</td>\n",
       "      <td>95</td>\n",
       "      <td>75</td>\n",
       "    </tr>\n",
       "  </tbody>\n",
       "</table>\n",
       "<p>39170 rows × 7 columns</p>\n",
       "</div>"
      ],
      "text/plain": [
       "       Student ID       student_name gender grade         school_name  \\\n",
       "0               0       Paul Bradley      M   9th   Huang High School   \n",
       "1               1       Victor Smith      M  12th   Huang High School   \n",
       "2               2    Kevin Rodriguez      M  12th   Huang High School   \n",
       "3               3  Dr. Richard Scott      M  12th   Huang High School   \n",
       "4               4         Bonnie Ray      F   9th   Huang High School   \n",
       "...           ...                ...    ...   ...                 ...   \n",
       "39165       39165       Donna Howard      F  12th  Thomas High School   \n",
       "39166       39166          Dawn Bell      F  10th  Thomas High School   \n",
       "39167       39167     Rebecca Tanner      F   9th  Thomas High School   \n",
       "39168       39168       Desiree Kidd      F  10th  Thomas High School   \n",
       "39169       39169    Carolyn Jackson      F  11th  Thomas High School   \n",
       "\n",
       "       reading_score  math_score  \n",
       "0                 66          79  \n",
       "1                 94          61  \n",
       "2                 90          60  \n",
       "3                 67          58  \n",
       "4                 97          84  \n",
       "...              ...         ...  \n",
       "39165             99          90  \n",
       "39166             95          70  \n",
       "39167             73          84  \n",
       "39168             99          90  \n",
       "39169             95          75  \n",
       "\n",
       "[39170 rows x 7 columns]"
      ]
     },
     "execution_count": 3,
     "metadata": {},
     "output_type": "execute_result"
    }
   ],
   "source": [
    "# Display header for just the student data\n",
    "student_data"
   ]
  },
  {
   "cell_type": "markdown",
   "metadata": {},
   "source": [
    "## District Summary\n",
    "\n",
    "* Calculate the total number of schools\n",
    "\n",
    "* Calculate the total number of students\n",
    "\n",
    "* Calculate the total budget\n",
    "\n",
    "* Calculate the average math score \n",
    "\n",
    "* Calculate the average reading score\n",
    "\n",
    "* Calculate the overall passing rate (overall average score), i.e. (avg. math score + avg. reading score)/2\n",
    "\n",
    "* Calculate the percentage of students with a passing math score (70 or greater)\n",
    "\n",
    "* Calculate the percentage of students with a passing reading score (70 or greater)\n",
    "\n",
    "* Create a dataframe to hold the above results\n",
    "\n",
    "* Optional: give the displayed data cleaner formatting"
   ]
  },
  {
   "cell_type": "code",
   "execution_count": 4,
   "metadata": {},
   "outputs": [
    {
     "name": "stdout",
     "output_type": "stream",
     "text": [
      "Total Schools by Unique Name: 15, Total Schools by Count of School Name Rows: 15\n"
     ]
    }
   ],
   "source": [
    "# Calculate total schools\n",
    "# Use the school data as there is a single row for each school making the calculation simpler than the combined data set\n",
    "# Two different methods - using unique may be inaccurate if two schools had the same name\n",
    "totalSchoolsUnique = len(school_data[\"school_name\"].unique())\n",
    "totalSchools = school_data[\"school_name\"].count()\n",
    "print(\"Total Schools by Unique Name: \" + str(totalSchools) + \", Total Schools by Count of School Name Rows: \" + str(totalSchoolsUnique))"
   ]
  },
  {
   "cell_type": "code",
   "execution_count": 28,
   "metadata": {},
   "outputs": [
    {
     "name": "stdout",
     "output_type": "stream",
     "text": [
      "Total Students by Unique ID: 39,170, Total Students by Count of Student ID Rows: 39,170\n"
     ]
    }
   ],
   "source": [
    "# Calculate total students\n",
    "# Either the student data or the complete data set can be used since the school data was appended to each student record\n",
    "# meaning the same number of rows exist in each data set and there are no duplicate student records \n",
    "# Two different methods (could be applied to either data set) - either method works and students should not have the same id\n",
    "totalStudentsUnique = len(student_data[\"Student ID\"].unique())\n",
    "totalStudents = student_data[\"Student ID\"].count()\n",
    "print(\"Total Students by Unique ID: \" + str(\"{:,}\".format(totalStudentsUnique)) \n",
    "      + \", Total Students by Count of Student ID Rows: \"\n",
    "      + str(\"{:,}\".format(totalStudents)))\n",
    "                                                                                  "
   ]
  },
  {
   "cell_type": "code",
   "execution_count": 29,
   "metadata": {},
   "outputs": [
    {
     "name": "stdout",
     "output_type": "stream",
     "text": [
      "Total Budget = $24,649,428.00\n"
     ]
    }
   ],
   "source": [
    "# Calculate the total budget\n",
    "# Use the school data since the calculation is simply a sum of the budgets because each school only appears 1 time\n",
    "totalBudget = school_data['budget'].sum()\n",
    "print(\"Total Budget = \" + str(\"${:,.2f}\".format(totalBudget)))"
   ]
  },
  {
   "cell_type": "code",
   "execution_count": 30,
   "metadata": {},
   "outputs": [
    {
     "name": "stdout",
     "output_type": "stream",
     "text": [
      "Average Math Score: 79.0\n",
      "Full Precision: 78.98537145774827\n"
     ]
    }
   ],
   "source": [
    "# Calculate average math score\n",
    "# Either the student data or the complete data set can be used since the school data was appended to each student record\n",
    "# meaning the same number of rows exist in each data set and there are no duplicate student records \n",
    "avgMathScore = school_data_complete[\"math_score\"].mean()\n",
    "print(\"Average Math Score: \" + str(\"{:.1f}\".format(avgMathScore)) + \"\\nFull Precision: \" + str(avgMathScore))"
   ]
  },
  {
   "cell_type": "code",
   "execution_count": 31,
   "metadata": {},
   "outputs": [
    {
     "name": "stdout",
     "output_type": "stream",
     "text": [
      "Average Reading Score: 81.9\n",
      "Full Precision: 81.87784018381414\n"
     ]
    }
   ],
   "source": [
    "# Calculate average reading score\n",
    "# Either the student data or the complete data set can be used since the school data was appended to each student record\n",
    "# meaning the same number of rows exist in each data set and there are no duplicate student records \n",
    "avgReadingScore = school_data_complete[\"reading_score\"].mean()\n",
    "print(\"Average Reading Score: \" + str(\"{:.1f}\".format(avgReadingScore)) \n",
    "      + \"\\nFull Precision: \" + str(avgReadingScore))"
   ]
  },
  {
   "cell_type": "code",
   "execution_count": 32,
   "metadata": {},
   "outputs": [
    {
     "name": "stdout",
     "output_type": "stream",
     "text": [
      "Overall Passing Rate: 80.4\n",
      "Full Precision: 80.43160582078121\n"
     ]
    }
   ],
   "source": [
    "# Calculate overall passing based on average of math and reading scores\n",
    "# Use the complete data set and make a copy for our new data frame of passing rates\n",
    "passingRates = school_data_complete.copy()\n",
    "passingRates[\"Overall Pass Rate\"] = (school_data_complete[\"math_score\"] + school_data_complete[\"reading_score\"])/2\n",
    "overallPassRate = passingRates[\"Overall Pass Rate\"].mean()\n",
    "print(\"Overall Passing Rate: \" + str(\"{:.1f}\".format(overallPassRate)) \n",
    "      + \"\\nFull Precision: \" + str(\"{:}\".format(overallPassRate)))"
   ]
  },
  {
   "cell_type": "code",
   "execution_count": 33,
   "metadata": {},
   "outputs": [
    {
     "name": "stdout",
     "output_type": "stream",
     "text": [
      "Percent Passing Math: 75.0%\n",
      "Full Precision: 74.9808526933878%\n"
     ]
    }
   ],
   "source": [
    "# Calculate percent passing math (>= 70)\n",
    "# Start with the complete data set and create a new one with only math scores >= 70\n",
    "passingMath = school_data_complete.loc[(school_data_complete[\"math_score\"] >= 70),:]\n",
    "\n",
    "# Calculate percent passing by counting how many students are passing math / how many total students \n",
    "# there are (from above)\n",
    "percentPassingMath = passingMath[\"Student ID\"].count() / totalStudents\n",
    "print(\"Percent Passing Math: \" + str(\"{:.1f}%\".format(percentPassingMath*100)) \n",
    "      + \"\\nFull Precision: \" + str(\"{:}%\".format(percentPassingMath*100)))"
   ]
  },
  {
   "cell_type": "code",
   "execution_count": 34,
   "metadata": {},
   "outputs": [
    {
     "name": "stdout",
     "output_type": "stream",
     "text": [
      "Percent Passing Reading: 85.8%\n",
      "Full Precision: 85.80546336482001%\n"
     ]
    }
   ],
   "source": [
    "# Calculate percent passing reading (>= 70)\n",
    "# Start with the complete data set and create a new one with only reading scores >= 70\n",
    "passingReading = school_data_complete.loc[(school_data_complete[\"reading_score\"] >= 70),:]\n",
    "\n",
    "# Calculate percent passing by counting how many students are passing reading / how many total students \n",
    "# there are (from above)\n",
    "percentPassingReading = passingReading[\"Student ID\"].count() / totalStudents\n",
    "print(\"Percent Passing Reading: \" + str(\"{:.1f}%\".format(percentPassingReading*100)) \n",
    "      + \"\\nFull Precision: \" + str(\"{:}%\".format(percentPassingReading*100)))"
   ]
  },
  {
   "cell_type": "code",
   "execution_count": 37,
   "metadata": {},
   "outputs": [
    {
     "data": {
      "text/html": [
       "<style  type=\"text/css\" >\n",
       "</style><table id=\"T_e779758c_dd6c_11e9_8a25_3800259a1fae\" ><thead>    <tr>        <th class=\"blank level0\" ></th>        <th class=\"col_heading level0 col0\" >Total Schools</th>        <th class=\"col_heading level0 col1\" >Total Students</th>        <th class=\"col_heading level0 col2\" >Total Budget</th>        <th class=\"col_heading level0 col3\" >Average Math Score</th>        <th class=\"col_heading level0 col4\" >Average Reading Score</th>        <th class=\"col_heading level0 col5\" >% Passing Math</th>        <th class=\"col_heading level0 col6\" >% Passing Reading</th>        <th class=\"col_heading level0 col7\" >% Overall Passing Rate</th>    </tr></thead><tbody>\n",
       "                <tr>\n",
       "                        <th id=\"T_e779758c_dd6c_11e9_8a25_3800259a1faelevel0_row0\" class=\"row_heading level0 row0\" >0</th>\n",
       "                        <td id=\"T_e779758c_dd6c_11e9_8a25_3800259a1faerow0_col0\" class=\"data row0 col0\" >15</td>\n",
       "                        <td id=\"T_e779758c_dd6c_11e9_8a25_3800259a1faerow0_col1\" class=\"data row0 col1\" >39,170</td>\n",
       "                        <td id=\"T_e779758c_dd6c_11e9_8a25_3800259a1faerow0_col2\" class=\"data row0 col2\" >$24,649,428</td>\n",
       "                        <td id=\"T_e779758c_dd6c_11e9_8a25_3800259a1faerow0_col3\" class=\"data row0 col3\" >78.985</td>\n",
       "                        <td id=\"T_e779758c_dd6c_11e9_8a25_3800259a1faerow0_col4\" class=\"data row0 col4\" >81.878</td>\n",
       "                        <td id=\"T_e779758c_dd6c_11e9_8a25_3800259a1faerow0_col5\" class=\"data row0 col5\" >74.98%</td>\n",
       "                        <td id=\"T_e779758c_dd6c_11e9_8a25_3800259a1faerow0_col6\" class=\"data row0 col6\" >85.81%</td>\n",
       "                        <td id=\"T_e779758c_dd6c_11e9_8a25_3800259a1faerow0_col7\" class=\"data row0 col7\" >80.43%</td>\n",
       "            </tr>\n",
       "    </tbody></table>"
      ],
      "text/plain": [
       "<pandas.io.formats.style.Styler at 0x2306b979080>"
      ]
     },
     "execution_count": 37,
     "metadata": {},
     "output_type": "execute_result"
    }
   ],
   "source": [
    "# Display the District Summary\n",
    "schoolSummary = pd.DataFrame({\"Total Schools\":[totalSchools],\n",
    "                              \"Total Students\":[totalStudents],\n",
    "                              \"Total Budget\":[totalBudget],\n",
    "                              \"Average Math Score\":[avgMathScore],\n",
    "                              \"Average Reading Score\":[avgReadingScore],\n",
    "                              \"% Passing Math\":[percentPassingMath],\n",
    "                              \"% Passing Reading\":[percentPassingReading],\n",
    "                              \"% Overall Passing Rate\":[overallPassRate/100]})\n",
    "\n",
    "# Set the styling for the dataframe - NOTE:  Because this is a dictionary, order of fields does NOT matter\n",
    "schoolSummary.style.format({'Average Math Score': \"{:,.3f}\", 'Average Reading Score': \"{:,.3f}\",'Total Budget': '${:,.0f}',\n",
    "                           '% Passing Math':\"{:.2%}\", '% Passing Reading':\"{:.2%}\",'% Overall Passing Rate':\"{:.2%}\",\n",
    "                           'Total Students':\"{:,}\"})\n",
    "#schoolSummary\n",
    "# NOTE:  For full precision, see steps above"
   ]
  },
  {
   "cell_type": "markdown",
   "metadata": {},
   "source": [
    "## School Summary"
   ]
  },
  {
   "cell_type": "markdown",
   "metadata": {},
   "source": [
    "* Create an overview table that summarizes key metrics about each school, including:\n",
    "  * School Name\n",
    "  * School Type\n",
    "  * Total Students\n",
    "  * Total School Budget\n",
    "  * Per Student Budget\n",
    "  * Average Math Score\n",
    "  * Average Reading Score\n",
    "  * % Passing Math\n",
    "  * % Passing Reading\n",
    "  * Overall Passing Rate (Average of the above two)\n",
    "  \n",
    "* Create a dataframe to hold the above results"
   ]
  },
  {
   "cell_type": "code",
   "execution_count": null,
   "metadata": {},
   "outputs": [],
   "source": [
    "# Group by School\n",
    "groupedBySchool = passingRates.groupby([\"school_name\"])\n",
    "\n",
    "# Determine the number of students per school\n",
    "studentsBySchool = groupedBySchool[\"Student ID\"].count()\n",
    "studentsBySchool\n",
    "\n",
    "# Determine Avg Reading Score, Avg Math Score, Size of School, Budget per School\n",
    "schoolAvgReading = groupedBySchool[\"reading_score\"].mean()\n",
    "schoolAvgMath = groupedBySchool[\"math_score\"].mean()\n",
    "schoolBudget = groupedBySchool[\"budget\"].mean()\n",
    "\n",
    "\n"
   ]
  },
  {
   "cell_type": "code",
   "execution_count": null,
   "metadata": {},
   "outputs": [],
   "source": [
    "# Determine passing rates\n",
    "schoolMathRate = school_data_complete.loc[(school_data_complete[\"math_score\"] >= 70.0),:]\n",
    "mathRate = schoolMathRate.groupby([\"school_name\"])[\"math_score\"].count() / school_data_complete.groupby([\"school_name\"])[\"Student ID\"].count()\n",
    "mathRate.head()"
   ]
  },
  {
   "cell_type": "code",
   "execution_count": null,
   "metadata": {},
   "outputs": [],
   "source": [
    "schoolReadingRate = school_data_complete.loc[(school_data_complete[\"reading_score\"] >= 70.0),:]\n",
    "readingRate = schoolReadingRate.groupby([\"school_name\"])[\"reading_score\"].count() / school_data_complete.groupby([\"school_name\"])[\"Student ID\"].count()\n",
    "readingRate.head()\n"
   ]
  },
  {
   "cell_type": "code",
   "execution_count": null,
   "metadata": {},
   "outputs": [],
   "source": [
    "# School Summary\n",
    "#schoolSummary2 = pd.merge(readingRate, mathRate, on=\"school_name\")\n",
    "#schoolSummary2.head()\n",
    "#schoolSummary2 = pd.DataFrame({\"Total Students\":[studentsBySchool],\n",
    "#                              \"Avg Reading Score\":[schoolAvgReading],\n",
    "#                              \"Avg Math Score\":[schoolAvgMath],\n",
    "#                              \"Budget\":[schoolBudget],\n",
    "#                              \"% Passing Math\": [mathRate],\n",
    "#                              \"% Passing Reading\": [readingRate]})\n",
    "\n",
    "# Set the styling for the dataframe\n",
    "#schoolSummary2.style.format({'% Passing Math':\"%{:.2%}\",\n",
    "#                             '% Passing Reading':\"%{:.2%}\"})\n",
    "\n",
    "#schoolSummary2.head()"
   ]
  },
  {
   "cell_type": "markdown",
   "metadata": {},
   "source": [
    "## Top Performing Schools (By Passing Rate)"
   ]
  },
  {
   "cell_type": "markdown",
   "metadata": {},
   "source": [
    "* Sort and display the top five schools in overall passing rate"
   ]
  },
  {
   "cell_type": "code",
   "execution_count": null,
   "metadata": {},
   "outputs": [],
   "source": []
  },
  {
   "cell_type": "markdown",
   "metadata": {},
   "source": [
    "## Bottom Performing Schools (By Passing Rate)"
   ]
  },
  {
   "cell_type": "markdown",
   "metadata": {},
   "source": [
    "* Sort and display the five worst-performing schools"
   ]
  },
  {
   "cell_type": "code",
   "execution_count": null,
   "metadata": {},
   "outputs": [],
   "source": []
  },
  {
   "cell_type": "markdown",
   "metadata": {
    "collapsed": true
   },
   "source": [
    "## Math Scores by Grade"
   ]
  },
  {
   "cell_type": "markdown",
   "metadata": {},
   "source": [
    "* Create a table that lists the average Math Score for students of each grade level (9th, 10th, 11th, 12th) at each school.\n",
    "\n",
    "  * Create a pandas series for each grade. Hint: use a conditional statement.\n",
    "  \n",
    "  * Group each series by school\n",
    "  \n",
    "  * Combine the series into a dataframe\n",
    "  \n",
    "  * Optional: give the displayed data cleaner formatting"
   ]
  },
  {
   "cell_type": "code",
   "execution_count": null,
   "metadata": {},
   "outputs": [],
   "source": []
  },
  {
   "cell_type": "markdown",
   "metadata": {},
   "source": [
    "## Reading Score by Grade "
   ]
  },
  {
   "cell_type": "markdown",
   "metadata": {},
   "source": [
    "* Perform the same operations as above for reading scores"
   ]
  },
  {
   "cell_type": "code",
   "execution_count": null,
   "metadata": {},
   "outputs": [],
   "source": []
  },
  {
   "cell_type": "markdown",
   "metadata": {},
   "source": [
    "## Scores by School Spending"
   ]
  },
  {
   "cell_type": "markdown",
   "metadata": {},
   "source": [
    "* Create a table that breaks down school performances based on average Spending Ranges (Per Student). Use 4 reasonable bins to group school spending. Include in the table each of the following:\n",
    "  * Average Math Score\n",
    "  * Average Reading Score\n",
    "  * % Passing Math\n",
    "  * % Passing Reading\n",
    "  * Overall Passing Rate (Average of the above two)"
   ]
  },
  {
   "cell_type": "code",
   "execution_count": null,
   "metadata": {},
   "outputs": [],
   "source": [
    "# Sample bins. Feel free to create your own bins.\n",
    "spending_bins = [0, 585, 615, 645, 675]\n",
    "group_names = [\"<$585\", \"$585-615\", \"$615-645\", \"$645-675\"]\n"
   ]
  },
  {
   "cell_type": "code",
   "execution_count": null,
   "metadata": {},
   "outputs": [],
   "source": [
    "\n"
   ]
  },
  {
   "cell_type": "markdown",
   "metadata": {},
   "source": [
    "## Scores by School Size"
   ]
  },
  {
   "cell_type": "markdown",
   "metadata": {},
   "source": [
    "* Perform the same operations as above, based on school size."
   ]
  },
  {
   "cell_type": "code",
   "execution_count": null,
   "metadata": {},
   "outputs": [],
   "source": [
    "# Sample bins. Feel free to create your own bins.\n",
    "size_bins = [0, 1000, 2000, 5000]\n",
    "group_names = [\"Small (<1000)\", \"Medium (1000-2000)\", \"Large (2000-5000)\"]"
   ]
  },
  {
   "cell_type": "code",
   "execution_count": null,
   "metadata": {
    "scrolled": true
   },
   "outputs": [],
   "source": []
  },
  {
   "cell_type": "markdown",
   "metadata": {},
   "source": [
    "## Scores by School Type"
   ]
  },
  {
   "cell_type": "markdown",
   "metadata": {},
   "source": [
    "* Perform the same operations as above, based on school type."
   ]
  },
  {
   "cell_type": "code",
   "execution_count": null,
   "metadata": {},
   "outputs": [],
   "source": []
  },
  {
   "cell_type": "code",
   "execution_count": null,
   "metadata": {},
   "outputs": [],
   "source": [
    "# Playground - start with a copy of the data frame\n",
    "copy = school_data_complete.copy()\n",
    "copy"
   ]
  },
  {
   "cell_type": "code",
   "execution_count": null,
   "metadata": {},
   "outputs": [],
   "source": [
    "copy.dtypes"
   ]
  },
  {
   "cell_type": "code",
   "execution_count": null,
   "metadata": {},
   "outputs": [],
   "source": [
    "groupBy = copy.groupby([\"school_name\",\"type\",\"budget\"])"
   ]
  },
  {
   "cell_type": "code",
   "execution_count": null,
   "metadata": {},
   "outputs": [],
   "source": [
    "groupBy.head()"
   ]
  },
  {
   "cell_type": "code",
   "execution_count": null,
   "metadata": {},
   "outputs": [],
   "source": [
    "\n",
    "group = copy.groupby(\n",
    "   ['school_name', \"type\"]\n",
    ").agg(\n",
    "    {\n",
    "        'budget':\"mean\",\n",
    "        'Student ID':\"count\", \n",
    "        'reading_score':[\"mean\", \"count\",\"max\",\"min\"],\n",
    "         'math_score': [\"mean\", \"count\",\"max\",\"min\"]\n",
    "    }\n",
    ")\n",
    "\n",
    "group.columns = [\"_\".join(x) for x in group.columns.ravel()]\n",
    "group"
   ]
  },
  {
   "cell_type": "code",
   "execution_count": null,
   "metadata": {},
   "outputs": [],
   "source": [
    "\n",
    "group2 = copy.groupby(\n",
    "   ['school_name', \"type\",\"budget\"]\n",
    ").agg(\n",
    "    {\n",
    "        'budget':\"mean\",\n",
    "        'Student ID':\"count\", \n",
    "        'reading_score':\"mean\",\n",
    "         'math_score': \"mean\"\n",
    "    }\n",
    ")\n",
    "\n",
    "#group2.columns = [\"_\".join(x) for x in group2.columns.ravel()]\n",
    "group2.dtypes"
   ]
  },
  {
   "cell_type": "code",
   "execution_count": null,
   "metadata": {},
   "outputs": [],
   "source": [
    "group2[\"Per Student Budget\"] = group2[\"budget\"] / group2[\"Student ID\"]\n",
    "group2"
   ]
  },
  {
   "cell_type": "code",
   "execution_count": null,
   "metadata": {},
   "outputs": [],
   "source": [
    "passingMath = school_data_complete.loc[(school_data_complete[\"math_score\"] >= 70),:]\n",
    "passingMath\n",
    "percentPassingMathBySchool = passingMath.groupby([\"school_name\"])[\"math_score\"].count() / group2[\"Student ID\"]\n",
    "percentPassingMathBySchool"
   ]
  },
  {
   "cell_type": "code",
   "execution_count": null,
   "metadata": {},
   "outputs": [],
   "source": [
    "passingReading = school_data_complete.loc[(school_data_complete[\"reading_score\"] >= 70),:]\n",
    "passingReading\n",
    "percentPassingReadingBySchool = passingReading.groupby([\"school_name\"])[\"reading_score\"].count() / group2[\"Student ID\"]\n",
    "percentPassingReadingBySchool"
   ]
  },
  {
   "cell_type": "code",
   "execution_count": null,
   "metadata": {},
   "outputs": [],
   "source": [
    "#merge_df2 = pd.merge(group2, percentPassingMathBySchool, on=\"school_name\")\n",
    "#merge_df2.head()\n",
    "group2[\"% Passing Math\"] = percentPassingMathBySchool\n",
    "group2\n",
    "group2[\"% Passing Reading\"] = percentPassingReadingBySchool\n",
    "group2"
   ]
  },
  {
   "cell_type": "code",
   "execution_count": null,
   "metadata": {},
   "outputs": [],
   "source": [
    "group2[\"Overall % Passing\"] = (group2[\"% Passing Math\"] + group2[\"% Passing Reading\"])/2\n",
    "group2"
   ]
  },
  {
   "cell_type": "code",
   "execution_count": null,
   "metadata": {},
   "outputs": [],
   "source": [
    "topPassingRate = group2.copy().sort_values(\"Overall % Passing\",ascending=False)\n",
    "topPassingRate.head(5)"
   ]
  },
  {
   "cell_type": "code",
   "execution_count": null,
   "metadata": {},
   "outputs": [],
   "source": [
    "btmPassingRate = group2.copy().sort_values(\"Overall % Passing\",ascending=True)\n",
    "btmPassingRate.head(5)"
   ]
  },
  {
   "cell_type": "code",
   "execution_count": null,
   "metadata": {},
   "outputs": [],
   "source": [
    "#Create a table that lists the average Math Score for students of each grade level (9th, 10th, 11th, 12th) at each school.\n",
    "#Create a pandas series for each grade. Hint: use a conditional statement.\n",
    "math9 = student_data.loc[(student_data[\"grade\"] == \"9th\"),[\"school_name\",\"math_score\"]]\n",
    "math10 = student_data.loc[(student_data[\"grade\"] == \"10th\"),[\"school_name\",\"math_score\"]]\n",
    "math11 = student_data.loc[(student_data[\"grade\"] == \"11th\"),[\"school_name\",\"math_score\"]]\n",
    "math12 = student_data.loc[(student_data[\"grade\"] == \"12th\"),[\"school_name\",\"math_score\"]]\n",
    "\n",
    "#Group each series by school\n",
    "math9BySchool = math9.groupby(\"school_name\")[\"math_score\"].mean()\n",
    "math10BySchool = math10.groupby(\"school_name\")[\"math_score\"].mean()\n",
    "math11BySchool = math11.groupby(\"school_name\")[\"math_score\"].mean()\n",
    "math12BySchool = math12.groupby(\"school_name\")[\"math_score\"].mean()\n",
    "\n",
    "#Combine the series into a dataframe\n",
    "mathScoresByGrade = pd.merge(math9BySchool, math10BySchool, on=\"school_name\", suffixes = (\"_9th\", \"_10th\"))\n",
    "mathScoresByGrade = pd.merge(mathScoresByGrade, math11BySchool, on=\"school_name\")\n",
    "mathScoresByGrade = pd.merge(mathScoresByGrade, math12BySchool, on=\"school_name\", suffixes = (\"_11th\", \"_12th\"))\n",
    "mathScoresByGrade\n",
    "\n",
    "#Optional: give the displayed data cleaner formatting\n"
   ]
  },
  {
   "cell_type": "code",
   "execution_count": null,
   "metadata": {},
   "outputs": [],
   "source": [
    "#Create a table that lists the average Reading Score for students of each grade level (9th, 10th, 11th, 12th) at each school.\n",
    "#Create a pandas series for each grade. Hint: use a conditional statement.\n",
    "reading9 = student_data.loc[(student_data[\"grade\"] == \"9th\"),[\"school_name\",\"reading_score\"]]\n",
    "reading10 = student_data.loc[(student_data[\"grade\"] == \"10th\"),[\"school_name\",\"reading_score\"]]\n",
    "reading11 = student_data.loc[(student_data[\"grade\"] == \"11th\"),[\"school_name\",\"reading_score\"]]\n",
    "reading12 = student_data.loc[(student_data[\"grade\"] == \"12th\"),[\"school_name\",\"reading_score\"]]\n",
    "\n",
    "#Group each series by school\n",
    "reading9BySchool = reading9.groupby(\"school_name\")[\"reading_score\"].mean()\n",
    "reading10BySchool = reading10.groupby(\"school_name\")[\"reading_score\"].mean()\n",
    "reading11BySchool = reading11.groupby(\"school_name\")[\"reading_score\"].mean()\n",
    "reading12BySchool = reading12.groupby(\"school_name\")[\"reading_score\"].mean()\n",
    "\n",
    "#Combine the series into a dataframe\n",
    "readingScoresByGrade = pd.merge(reading9BySchool, reading10BySchool, on=\"school_name\", suffixes = (\"_9th\", \"_10th\"))\n",
    "readingScoresByGrade = pd.merge(readingScoresByGrade, reading11BySchool, on=\"school_name\")\n",
    "readingScoresByGrade = pd.merge(readingScoresByGrade, reading12BySchool, on=\"school_name\", suffixes = (\"_11th\", \"_12th\"))\n",
    "readingScoresByGrade\n",
    "\n",
    "#Optional: give the displayed data cleaner formatting\n"
   ]
  },
  {
   "cell_type": "code",
   "execution_count": null,
   "metadata": {},
   "outputs": [],
   "source": [
    "# Sample bins. Feel free to create your own bins.\n",
    "spending_bins = [0, 585, 615, 645, 675]\n",
    "group_names = [\"<$585\", \"$585-615\", \"$615-645\", \"$645-675\"]\n",
    "schoolSpending = school_data_complete.copy()\n",
    "group2[\"Per Student Budget\"].describe()\n",
    "group3 = group2.copy()"
   ]
  },
  {
   "cell_type": "code",
   "execution_count": null,
   "metadata": {},
   "outputs": [],
   "source": [
    "# Set bins roughly according to the quartiles\n",
    "#spendingBin = [0, 591, 628, 641, 655]\n",
    "#spendingNames = [\"<=591\", \"$592-$628\", \"$629-$641\", \"$642-$655\"]\n",
    "group3[\"Per Student Spending Range\"] = pd.cut(group3[\"Per Student Budget\"], spending_bins, labels=group_names)\n",
    "\n",
    "group4 = group3.groupby(\n",
    "   [\"Per Student Spending Range\"]\n",
    ").agg(\n",
    "    {\n",
    "        'math_score':\"mean\",\n",
    "        'reading_score':\"mean\", \n",
    "        '% Passing Math':\"mean\",\n",
    "        '% Passing Reading': \"mean\",\n",
    "        'Overall % Passing' : \"mean\"\n",
    "    }\n",
    ")\n",
    "group4"
   ]
  },
  {
   "cell_type": "code",
   "execution_count": null,
   "metadata": {},
   "outputs": [],
   "source": [
    "size_bins = [0, 1000, 2000, 5000]\n",
    "size_names = [\"Small (<1000)\", \"Medium (1000-2000)\", \"Large (2000-5000)\"]\n",
    "\n",
    "group3[\"School Size\"] = pd.cut(group3[\"Student ID\"], size_bins, labels=size_names)\n",
    "\n",
    "group6 = group3.groupby(\n",
    "   [\"School Size\"]\n",
    ").agg(\n",
    "    {\n",
    "        'math_score':\"mean\",\n",
    "        'reading_score':\"mean\", \n",
    "        '% Passing Math':\"mean\",\n",
    "        '% Passing Reading': \"mean\",\n",
    "        'Overall % Passing' : \"mean\"\n",
    "    }\n",
    ")\n",
    "group6"
   ]
  },
  {
   "cell_type": "code",
   "execution_count": null,
   "metadata": {},
   "outputs": [],
   "source": [
    "group5 = group3.groupby(\n",
    "   [\"type\"]\n",
    ").agg(\n",
    "    {\n",
    "        'math_score':\"mean\",\n",
    "        'reading_score':\"mean\", \n",
    "        '% Passing Math':\"mean\",\n",
    "        '% Passing Reading': \"mean\",\n",
    "        'Overall % Passing' : \"mean\"\n",
    "    }\n",
    ")\n",
    "group5"
   ]
  },
  {
   "cell_type": "code",
   "execution_count": null,
   "metadata": {},
   "outputs": [],
   "source": []
  },
  {
   "cell_type": "code",
   "execution_count": null,
   "metadata": {},
   "outputs": [],
   "source": []
  }
 ],
 "metadata": {
  "anaconda-cloud": {},
  "kernel_info": {
   "name": "python3"
  },
  "kernelspec": {
   "display_name": "Python 3",
   "language": "python",
   "name": "python3"
  },
  "language_info": {
   "codemirror_mode": {
    "name": "ipython",
    "version": 3
   },
   "file_extension": ".py",
   "mimetype": "text/x-python",
   "name": "python",
   "nbconvert_exporter": "python",
   "pygments_lexer": "ipython3",
   "version": "3.6.9"
  },
  "latex_envs": {
   "LaTeX_envs_menu_present": true,
   "autoclose": false,
   "autocomplete": true,
   "bibliofile": "biblio.bib",
   "cite_by": "apalike",
   "current_citInitial": 1,
   "eqLabelWithNumbers": true,
   "eqNumInitial": 1,
   "hotkeys": {
    "equation": "Ctrl-E",
    "itemize": "Ctrl-I"
   },
   "labels_anchors": false,
   "latex_user_defs": false,
   "report_style_numbering": false,
   "user_envs_cfg": false
  },
  "nteract": {
   "version": "0.8.4"
  }
 },
 "nbformat": 4,
 "nbformat_minor": 1
}
